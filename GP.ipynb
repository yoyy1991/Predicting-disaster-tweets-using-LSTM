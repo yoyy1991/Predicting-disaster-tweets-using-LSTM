{
 "cells": [
  {
   "cell_type": "code",
   "execution_count": 27,
   "id": "ab0a21f3",
   "metadata": {},
   "outputs": [
    {
     "name": "stderr",
     "output_type": "stream",
     "text": [
      "[nltk_data] Downloading package stopwords to\n",
      "[nltk_data]     C:\\Users\\Computer.House\\AppData\\Roaming\\nltk_data...\n",
      "[nltk_data]   Package stopwords is already up-to-date!\n"
     ]
    },
    {
     "data": {
      "text/plain": [
       "True"
      ]
     },
     "execution_count": 27,
     "metadata": {},
     "output_type": "execute_result"
    }
   ],
   "source": [
    "import pandas as pd\n",
    "import seaborn as sns \n",
    "import matplotlib.pyplot as plt\n",
    "from collections import Counter\n",
    "import nltk\n",
    "from nltk.corpus import stopwords\n",
    "from sklearn.model_selection import train_test_split\n",
    "import tensorflow.keras as keras \n",
    "from tensorflow.keras.preprocessing.text import Tokenizer\n",
    "from tensorflow.keras.models import Sequential\n",
    "from tensorflow.keras.layers import Embedding, LSTM, Dense \n",
    "\n",
    "nltk.download('stopwords')"
   ]
  },
  {
   "cell_type": "markdown",
   "id": "d3ccaf90",
   "metadata": {},
   "source": [
    "1. Load the dataset"
   ]
  },
  {
   "cell_type": "code",
   "execution_count": 3,
   "id": "be59c11a",
   "metadata": {},
   "outputs": [],
   "source": [
    "df = pd.read_csv('/Amit course/final project/train.csv')"
   ]
  },
  {
   "cell_type": "markdown",
   "id": "91367cd1",
   "metadata": {},
   "source": [
    "2. Check head and info of the data"
   ]
  },
  {
   "cell_type": "code",
   "execution_count": 4,
   "id": "2d22c200",
   "metadata": {},
   "outputs": [
    {
     "data": {
      "text/html": [
       "<div>\n",
       "<style scoped>\n",
       "    .dataframe tbody tr th:only-of-type {\n",
       "        vertical-align: middle;\n",
       "    }\n",
       "\n",
       "    .dataframe tbody tr th {\n",
       "        vertical-align: top;\n",
       "    }\n",
       "\n",
       "    .dataframe thead th {\n",
       "        text-align: right;\n",
       "    }\n",
       "</style>\n",
       "<table border=\"1\" class=\"dataframe\">\n",
       "  <thead>\n",
       "    <tr style=\"text-align: right;\">\n",
       "      <th></th>\n",
       "      <th>id</th>\n",
       "      <th>keyword</th>\n",
       "      <th>location</th>\n",
       "      <th>text</th>\n",
       "      <th>target</th>\n",
       "    </tr>\n",
       "  </thead>\n",
       "  <tbody>\n",
       "    <tr>\n",
       "      <th>0</th>\n",
       "      <td>1</td>\n",
       "      <td>NaN</td>\n",
       "      <td>NaN</td>\n",
       "      <td>Our Deeds are the Reason of this #earthquake M...</td>\n",
       "      <td>1</td>\n",
       "    </tr>\n",
       "    <tr>\n",
       "      <th>1</th>\n",
       "      <td>4</td>\n",
       "      <td>NaN</td>\n",
       "      <td>NaN</td>\n",
       "      <td>Forest fire near La Ronge Sask. Canada</td>\n",
       "      <td>1</td>\n",
       "    </tr>\n",
       "    <tr>\n",
       "      <th>2</th>\n",
       "      <td>5</td>\n",
       "      <td>NaN</td>\n",
       "      <td>NaN</td>\n",
       "      <td>All residents asked to 'shelter in place' are ...</td>\n",
       "      <td>1</td>\n",
       "    </tr>\n",
       "    <tr>\n",
       "      <th>3</th>\n",
       "      <td>6</td>\n",
       "      <td>NaN</td>\n",
       "      <td>NaN</td>\n",
       "      <td>13,000 people receive #wildfires evacuation or...</td>\n",
       "      <td>1</td>\n",
       "    </tr>\n",
       "    <tr>\n",
       "      <th>4</th>\n",
       "      <td>7</td>\n",
       "      <td>NaN</td>\n",
       "      <td>NaN</td>\n",
       "      <td>Just got sent this photo from Ruby #Alaska as ...</td>\n",
       "      <td>1</td>\n",
       "    </tr>\n",
       "    <tr>\n",
       "      <th>...</th>\n",
       "      <td>...</td>\n",
       "      <td>...</td>\n",
       "      <td>...</td>\n",
       "      <td>...</td>\n",
       "      <td>...</td>\n",
       "    </tr>\n",
       "    <tr>\n",
       "      <th>95</th>\n",
       "      <td>137</td>\n",
       "      <td>accident</td>\n",
       "      <td>Charlotte</td>\n",
       "      <td>9 Mile backup on I-77 South...accident blockin...</td>\n",
       "      <td>1</td>\n",
       "    </tr>\n",
       "    <tr>\n",
       "      <th>96</th>\n",
       "      <td>138</td>\n",
       "      <td>accident</td>\n",
       "      <td>Baton Rouge, LA</td>\n",
       "      <td>Has an accident changed your life? We will hel...</td>\n",
       "      <td>0</td>\n",
       "    </tr>\n",
       "    <tr>\n",
       "      <th>97</th>\n",
       "      <td>139</td>\n",
       "      <td>accident</td>\n",
       "      <td>Hagerstown, MD</td>\n",
       "      <td>#BREAKING: there was a deadly motorcycle car a...</td>\n",
       "      <td>1</td>\n",
       "    </tr>\n",
       "    <tr>\n",
       "      <th>98</th>\n",
       "      <td>141</td>\n",
       "      <td>accident</td>\n",
       "      <td>Gloucestershire , UK</td>\n",
       "      <td>@flowri were you marinading it or was it an ac...</td>\n",
       "      <td>0</td>\n",
       "    </tr>\n",
       "    <tr>\n",
       "      <th>99</th>\n",
       "      <td>143</td>\n",
       "      <td>accident</td>\n",
       "      <td>NaN</td>\n",
       "      <td>only had a car for not even a week and got in ...</td>\n",
       "      <td>1</td>\n",
       "    </tr>\n",
       "  </tbody>\n",
       "</table>\n",
       "<p>100 rows × 5 columns</p>\n",
       "</div>"
      ],
      "text/plain": [
       "     id   keyword              location  \\\n",
       "0     1       NaN                   NaN   \n",
       "1     4       NaN                   NaN   \n",
       "2     5       NaN                   NaN   \n",
       "3     6       NaN                   NaN   \n",
       "4     7       NaN                   NaN   \n",
       "..  ...       ...                   ...   \n",
       "95  137  accident             Charlotte   \n",
       "96  138  accident       Baton Rouge, LA   \n",
       "97  139  accident        Hagerstown, MD   \n",
       "98  141  accident  Gloucestershire , UK   \n",
       "99  143  accident                   NaN   \n",
       "\n",
       "                                                 text  target  \n",
       "0   Our Deeds are the Reason of this #earthquake M...       1  \n",
       "1              Forest fire near La Ronge Sask. Canada       1  \n",
       "2   All residents asked to 'shelter in place' are ...       1  \n",
       "3   13,000 people receive #wildfires evacuation or...       1  \n",
       "4   Just got sent this photo from Ruby #Alaska as ...       1  \n",
       "..                                                ...     ...  \n",
       "95  9 Mile backup on I-77 South...accident blockin...       1  \n",
       "96  Has an accident changed your life? We will hel...       0  \n",
       "97  #BREAKING: there was a deadly motorcycle car a...       1  \n",
       "98  @flowri were you marinading it or was it an ac...       0  \n",
       "99  only had a car for not even a week and got in ...       1  \n",
       "\n",
       "[100 rows x 5 columns]"
      ]
     },
     "execution_count": 4,
     "metadata": {},
     "output_type": "execute_result"
    }
   ],
   "source": [
    "df.head(100)"
   ]
  },
  {
   "cell_type": "code",
   "execution_count": 6,
   "id": "8de5cce5",
   "metadata": {},
   "outputs": [
    {
     "name": "stdout",
     "output_type": "stream",
     "text": [
      "<class 'pandas.core.frame.DataFrame'>\n",
      "RangeIndex: 7613 entries, 0 to 7612\n",
      "Data columns (total 5 columns):\n",
      " #   Column    Non-Null Count  Dtype \n",
      "---  ------    --------------  ----- \n",
      " 0   id        7613 non-null   int64 \n",
      " 1   keyword   7552 non-null   object\n",
      " 2   location  5080 non-null   object\n",
      " 3   text      7613 non-null   object\n",
      " 4   target    7613 non-null   int64 \n",
      "dtypes: int64(2), object(3)\n",
      "memory usage: 297.5+ KB\n"
     ]
    }
   ],
   "source": [
    "df.info()"
   ]
  },
  {
   "cell_type": "markdown",
   "id": "40258d9b",
   "metadata": {},
   "source": [
    "3. Is there a missing data and how many and the percentage if there?"
   ]
  },
  {
   "cell_type": "code",
   "execution_count": 7,
   "id": "227578ba",
   "metadata": {},
   "outputs": [
    {
     "data": {
      "text/html": [
       "<div>\n",
       "<style scoped>\n",
       "    .dataframe tbody tr th:only-of-type {\n",
       "        vertical-align: middle;\n",
       "    }\n",
       "\n",
       "    .dataframe tbody tr th {\n",
       "        vertical-align: top;\n",
       "    }\n",
       "\n",
       "    .dataframe thead th {\n",
       "        text-align: right;\n",
       "    }\n",
       "</style>\n",
       "<table border=\"1\" class=\"dataframe\">\n",
       "  <thead>\n",
       "    <tr style=\"text-align: right;\">\n",
       "      <th></th>\n",
       "      <th>count</th>\n",
       "      <th>Percentage</th>\n",
       "    </tr>\n",
       "  </thead>\n",
       "  <tbody>\n",
       "    <tr>\n",
       "      <th>id</th>\n",
       "      <td>0</td>\n",
       "      <td>0.000000</td>\n",
       "    </tr>\n",
       "    <tr>\n",
       "      <th>keyword</th>\n",
       "      <td>61</td>\n",
       "      <td>0.801261</td>\n",
       "    </tr>\n",
       "    <tr>\n",
       "      <th>location</th>\n",
       "      <td>2533</td>\n",
       "      <td>33.272035</td>\n",
       "    </tr>\n",
       "    <tr>\n",
       "      <th>text</th>\n",
       "      <td>0</td>\n",
       "      <td>0.000000</td>\n",
       "    </tr>\n",
       "    <tr>\n",
       "      <th>target</th>\n",
       "      <td>0</td>\n",
       "      <td>0.000000</td>\n",
       "    </tr>\n",
       "  </tbody>\n",
       "</table>\n",
       "</div>"
      ],
      "text/plain": [
       "          count  Percentage\n",
       "id            0    0.000000\n",
       "keyword      61    0.801261\n",
       "location   2533   33.272035\n",
       "text          0    0.000000\n",
       "target        0    0.000000"
      ]
     },
     "execution_count": 7,
     "metadata": {},
     "output_type": "execute_result"
    }
   ],
   "source": [
    "null_data = df.isnull()\n",
    "\n",
    "missing_data = {\n",
    "    \"count\": null_data.sum(),\n",
    "    \"Percentage\": null_data.mean() * 100    # Mean is the summation over the length,\n",
    "    # \"Percentage\": (null_data.sum() / len(df)) * 100\n",
    "}\n",
    "\n",
    "pd.DataFrame(data=missing_data)"
   ]
  },
  {
   "cell_type": "markdown",
   "id": "a704c300",
   "metadata": {},
   "source": [
    "4. How many data in each class?"
   ]
  },
  {
   "cell_type": "code",
   "execution_count": 6,
   "id": "d98e4a23",
   "metadata": {},
   "outputs": [
    {
     "data": {
      "text/plain": [
       "0    4342\n",
       "1    3271\n",
       "Name: target, dtype: int64"
      ]
     },
     "execution_count": 6,
     "metadata": {},
     "output_type": "execute_result"
    }
   ],
   "source": [
    "df.target.value_counts()\n"
   ]
  },
  {
   "cell_type": "code",
   "execution_count": 8,
   "id": "5dd1e3db",
   "metadata": {},
   "outputs": [
    {
     "data": {
      "image/png": "[encoded data removed]",
      "text/plain": [
       "<Figure size 432x288 with 1 Axes>"
      ]
     },
     "metadata": {
      "needs_background": "light"
     },
     "output_type": "display_data"
    }
   ],
   "source": [
    "sns.countplot(x='target', data=df)\n",
    "\n",
    "plt.suptitle('Class Distribution')\n",
    "plt.show()"
   ]
  },
  {
   "cell_type": "markdown",
   "id": "08ac16b4",
   "metadata": {},
   "source": [
    "5. Get the top 15 locations of the data"
   ]
  },
  {
   "cell_type": "code",
   "execution_count": 8,
   "id": "1e6762d0",
   "metadata": {},
   "outputs": [
    {
     "data": {
      "text/html": [
       "<div>\n",
       "<style scoped>\n",
       "    .dataframe tbody tr th:only-of-type {\n",
       "        vertical-align: middle;\n",
       "    }\n",
       "\n",
       "    .dataframe tbody tr th {\n",
       "        vertical-align: top;\n",
       "    }\n",
       "\n",
       "    .dataframe thead th {\n",
       "        text-align: right;\n",
       "    }\n",
       "</style>\n",
       "<table border=\"1\" class=\"dataframe\">\n",
       "  <thead>\n",
       "    <tr style=\"text-align: right;\">\n",
       "      <th></th>\n",
       "      <th>location</th>\n",
       "      <th>id</th>\n",
       "    </tr>\n",
       "  </thead>\n",
       "  <tbody>\n",
       "    <tr>\n",
       "      <th>2643</th>\n",
       "      <td>USA</td>\n",
       "      <td>104</td>\n",
       "    </tr>\n",
       "    <tr>\n",
       "      <th>1826</th>\n",
       "      <td>New York</td>\n",
       "      <td>71</td>\n",
       "    </tr>\n",
       "    <tr>\n",
       "      <th>2662</th>\n",
       "      <td>United States</td>\n",
       "      <td>50</td>\n",
       "    </tr>\n",
       "    <tr>\n",
       "      <th>1506</th>\n",
       "      <td>London</td>\n",
       "      <td>45</td>\n",
       "    </tr>\n",
       "    <tr>\n",
       "      <th>587</th>\n",
       "      <td>Canada</td>\n",
       "      <td>29</td>\n",
       "    </tr>\n",
       "    <tr>\n",
       "      <th>1860</th>\n",
       "      <td>Nigeria</td>\n",
       "      <td>28</td>\n",
       "    </tr>\n",
       "    <tr>\n",
       "      <th>2632</th>\n",
       "      <td>UK</td>\n",
       "      <td>27</td>\n",
       "    </tr>\n",
       "    <tr>\n",
       "      <th>1534</th>\n",
       "      <td>Los Angeles, CA</td>\n",
       "      <td>26</td>\n",
       "    </tr>\n",
       "    <tr>\n",
       "      <th>1262</th>\n",
       "      <td>India</td>\n",
       "      <td>24</td>\n",
       "    </tr>\n",
       "    <tr>\n",
       "      <th>1719</th>\n",
       "      <td>Mumbai</td>\n",
       "      <td>22</td>\n",
       "    </tr>\n",
       "    <tr>\n",
       "      <th>2778</th>\n",
       "      <td>Washington, DC</td>\n",
       "      <td>21</td>\n",
       "    </tr>\n",
       "    <tr>\n",
       "      <th>1373</th>\n",
       "      <td>Kenya</td>\n",
       "      <td>20</td>\n",
       "    </tr>\n",
       "    <tr>\n",
       "      <th>2868</th>\n",
       "      <td>Worldwide</td>\n",
       "      <td>19</td>\n",
       "    </tr>\n",
       "    <tr>\n",
       "      <th>654</th>\n",
       "      <td>Chicago, IL</td>\n",
       "      <td>18</td>\n",
       "    </tr>\n",
       "    <tr>\n",
       "      <th>368</th>\n",
       "      <td>Australia</td>\n",
       "      <td>18</td>\n",
       "    </tr>\n",
       "  </tbody>\n",
       "</table>\n",
       "</div>"
      ],
      "text/plain": [
       "             location   id\n",
       "2643              USA  104\n",
       "1826         New York   71\n",
       "2662    United States   50\n",
       "1506           London   45\n",
       "587            Canada   29\n",
       "1860          Nigeria   28\n",
       "2632               UK   27\n",
       "1534  Los Angeles, CA   26\n",
       "1262            India   24\n",
       "1719           Mumbai   22\n",
       "2778   Washington, DC   21\n",
       "1373            Kenya   20\n",
       "2868        Worldwide   19\n",
       "654       Chicago, IL   18\n",
       "368         Australia   18"
      ]
     },
     "execution_count": 8,
     "metadata": {},
     "output_type": "execute_result"
    }
   ],
   "source": [
    "df.groupby('location').agg({'id': 'count'}).reset_index().sort_values('id',ascending=False).iloc[0:15]\n"
   ]
  },
  {
   "cell_type": "code",
   "execution_count": 9,
   "id": "9dcb5a22",
   "metadata": {},
   "outputs": [
    {
     "data": {
      "image/png": "[encoded data removed]",
      "text/plain": [
       "<Figure size 1440x720 with 2 Axes>"
      ]
     },
     "metadata": {
      "needs_background": "light"
     },
     "output_type": "display_data"
    }
   ],
   "source": [
    "disaster_count = df[df['target']==1]['location'].value_counts()[:15]\n",
    "none_disaster_count = df[df['target']==0]['location'].value_counts()[:15]\n",
    "\n",
    "fig, ax = plt.subplots(ncols=2, nrows=1, figsize=(20,10))\n",
    "\n",
    "sns.barplot(y=disaster_count.values, x=disaster_count.index, ax=ax[0])\n",
    "ax[0].set(ylabel='count', xlabel='locations', title='Disaster Tweets')\n",
    "\n",
    "sns.barplot(y=none_disaster_count.values, x=none_disaster_count.index, ax=ax[1])\n",
    "ax[1].set(ylabel='count', xlabel='locations', title='Non Disaster Tweets')\n",
    "\n",
    "plt.suptitle('Top 15 Locations')\n",
    "plt.show()"
   ]
  },
  {
   "cell_type": "code",
   "execution_count": 10,
   "id": "27ad2cb9",
   "metadata": {},
   "outputs": [
    {
     "data": {
      "text/html": [
       "<div>\n",
       "<style scoped>\n",
       "    .dataframe tbody tr th:only-of-type {\n",
       "        vertical-align: middle;\n",
       "    }\n",
       "\n",
       "    .dataframe tbody tr th {\n",
       "        vertical-align: top;\n",
       "    }\n",
       "\n",
       "    .dataframe thead th {\n",
       "        text-align: right;\n",
       "    }\n",
       "</style>\n",
       "<table border=\"1\" class=\"dataframe\">\n",
       "  <thead>\n",
       "    <tr style=\"text-align: right;\">\n",
       "      <th></th>\n",
       "      <th>keyword</th>\n",
       "      <th>id</th>\n",
       "    </tr>\n",
       "  </thead>\n",
       "  <tbody>\n",
       "    <tr>\n",
       "      <th>104</th>\n",
       "      <td>fatalities</td>\n",
       "      <td>45</td>\n",
       "    </tr>\n",
       "    <tr>\n",
       "      <th>63</th>\n",
       "      <td>deluge</td>\n",
       "      <td>42</td>\n",
       "    </tr>\n",
       "    <tr>\n",
       "      <th>8</th>\n",
       "      <td>armageddon</td>\n",
       "      <td>42</td>\n",
       "    </tr>\n",
       "    <tr>\n",
       "      <th>177</th>\n",
       "      <td>sinking</td>\n",
       "      <td>41</td>\n",
       "    </tr>\n",
       "    <tr>\n",
       "      <th>57</th>\n",
       "      <td>damage</td>\n",
       "      <td>41</td>\n",
       "    </tr>\n",
       "    <tr>\n",
       "      <th>119</th>\n",
       "      <td>harm</td>\n",
       "      <td>41</td>\n",
       "    </tr>\n",
       "    <tr>\n",
       "      <th>29</th>\n",
       "      <td>body%20bags</td>\n",
       "      <td>41</td>\n",
       "    </tr>\n",
       "    <tr>\n",
       "      <th>153</th>\n",
       "      <td>outbreak</td>\n",
       "      <td>40</td>\n",
       "    </tr>\n",
       "    <tr>\n",
       "      <th>95</th>\n",
       "      <td>evacuate</td>\n",
       "      <td>40</td>\n",
       "    </tr>\n",
       "    <tr>\n",
       "      <th>106</th>\n",
       "      <td>fear</td>\n",
       "      <td>40</td>\n",
       "    </tr>\n",
       "    <tr>\n",
       "      <th>49</th>\n",
       "      <td>collided</td>\n",
       "      <td>40</td>\n",
       "    </tr>\n",
       "    <tr>\n",
       "      <th>178</th>\n",
       "      <td>siren</td>\n",
       "      <td>40</td>\n",
       "    </tr>\n",
       "    <tr>\n",
       "      <th>204</th>\n",
       "      <td>twister</td>\n",
       "      <td>40</td>\n",
       "    </tr>\n",
       "    <tr>\n",
       "      <th>215</th>\n",
       "      <td>windstorm</td>\n",
       "      <td>40</td>\n",
       "    </tr>\n",
       "    <tr>\n",
       "      <th>176</th>\n",
       "      <td>sinkhole</td>\n",
       "      <td>39</td>\n",
       "    </tr>\n",
       "  </tbody>\n",
       "</table>\n",
       "</div>"
      ],
      "text/plain": [
       "         keyword  id\n",
       "104   fatalities  45\n",
       "63        deluge  42\n",
       "8     armageddon  42\n",
       "177      sinking  41\n",
       "57        damage  41\n",
       "119         harm  41\n",
       "29   body%20bags  41\n",
       "153     outbreak  40\n",
       "95      evacuate  40\n",
       "106         fear  40\n",
       "49      collided  40\n",
       "178        siren  40\n",
       "204      twister  40\n",
       "215    windstorm  40\n",
       "176     sinkhole  39"
      ]
     },
     "execution_count": 10,
     "metadata": {},
     "output_type": "execute_result"
    }
   ],
   "source": [
    "df.groupby('keyword').agg({'id': 'count'}).reset_index().sort_values('id',ascending=False).iloc[0:15]\n"
   ]
  },
  {
   "cell_type": "code",
   "execution_count": 10,
   "id": "d1b005ab",
   "metadata": {},
   "outputs": [
    {
     "data": {
      "image/png": "[encoded data removed]",
      "text/plain": [
       "<Figure size 1440x720 with 2 Axes>"
      ]
     },
     "metadata": {
      "needs_background": "light"
     },
     "output_type": "display_data"
    }
   ],
   "source": [
    "isaster_count = df[df['target']==1]['keyword'].value_counts()[:15]\n",
    "none_disaster_count = df[df['target']==0]['keyword'].value_counts()[:15]\n",
    "\n",
    "fig, ax = plt.subplots(ncols=2, nrows=1, figsize=(20,10))\n",
    "\n",
    "sns.barplot(y=disaster_count.values, x=disaster_count.index, ax=ax[0])\n",
    "ax[0].set(ylabel='count', xlabel=\"keyword\", title='Disaster Tweets')\n",
    "\n",
    "sns.barplot(y=none_disaster_count.values, x=none_disaster_count.index, ax=ax[1])\n",
    "ax[1].set(ylabel='count', xlabel='keyword', title='Non Disaster Tweets')\n",
    "\n",
    "plt.suptitle('Top 15 Keywords')\n",
    "plt.show()"
   ]
  },
  {
   "cell_type": "markdown",
   "id": "a30abaea",
   "metadata": {},
   "source": [
    "7. What are the most common words?"
   ]
  },
  {
   "cell_type": "code",
   "execution_count": 12,
   "id": "aa968ce5",
   "metadata": {},
   "outputs": [],
   "source": [
    "def build_corpus(target_column_name, text_column_name, val):\n",
    "    corpus = []\n",
    "    for text in df[df[target_column_name]==val][text_column_name].str.split():\n",
    "        for subtext in text:\n",
    "            corpus.append(subtext)\n",
    "    return corpus\n",
    "\n",
    "corpus_disaster = build_corpus(\"target\", \"text\", 1)\n",
    "corpus_nondisaster = build_corpus(\"target\", \"text\", 0)"
   ]
  },
  {
   "cell_type": "code",
   "execution_count": 13,
   "id": "7470e09d",
   "metadata": {},
   "outputs": [
    {
     "data": {
      "image/png": "[encoded data removed]",
      "text/plain": [
       "<Figure size 1440x720 with 2 Axes>"
      ]
     },
     "metadata": {
      "needs_background": "light"
     },
     "output_type": "display_data"
    }
   ],
   "source": [
    "stop_words = stopwords.words('english')\n",
    "\n",
    "def get_most_common_words(corpus, stop_word):\n",
    "    common_words = []\n",
    "    for word in corpus:\n",
    "        if word not in stop_word:\n",
    "            common_words.append(word)\n",
    "    return common_words\n",
    "\n",
    "common_words_disaster = get_most_common_words(corpus_disaster, stop_words)\n",
    "common_words_nondisaster = get_most_common_words(corpus_nondisaster, stop_words)\n",
    "        \n",
    "counter_disaster = Counter(common_words_disaster)\n",
    "counter_nondisaster = Counter(common_words_nondisaster)\n",
    "\n",
    "word_disaster, word_count_disaster = map(list, zip(*counter_disaster.most_common()[:15]))\n",
    "word_nondisaster, word_count_nondisaster = map(list, zip(*counter_nondisaster.most_common()[:15]))\n",
    "\n",
    "fig, ax = plt.subplots(nrows=1, ncols=2, figsize=(20,10))\n",
    "\n",
    "sns.barplot(y=word_count_disaster, x=word_disaster, ax=ax[0])\n",
    "ax[0].set(ylabel='count', xlabel='words', title='Disaster Tweets')\n",
    "\n",
    "sns.barplot(y=word_count_nondisaster, x=word_nondisaster, ax=ax[1])\n",
    "ax[1].set(ylabel='count', xlabel='words', title='Non Disaster Tweets')\n",
    "\n",
    "fig.suptitle('Most Common Words')\n",
    "plt.show()"
   ]
  },
  {
   "cell_type": "code",
   "execution_count": 11,
   "id": "073a3be3",
   "metadata": {},
   "outputs": [],
   "source": [
    "x_train = pd.read_csv('/Amit course/final project/train.csv', usecols=[\"id\", \"text\", \"target\"])\n",
    "x_test = pd.read_csv('/Amit course/final project/test.csv', usecols=[\"id\", \"text\"])\n",
    "\n",
    "y_train = x_train['target'].values"
   ]
  },
  {
   "cell_type": "code",
   "execution_count": 12,
   "id": "81dead3e",
   "metadata": {},
   "outputs": [
    {
     "name": "stdout",
     "output_type": "stream",
     "text": [
      "['Our Deeds are the Reason of this #earthquake May ALLAH Forgive us all'\n",
      " 'Forest fire near La Ronge Sask. Canada'\n",
      " \"All residents asked to 'shelter in place' are being notified by officers. No other evacuation or shelter in place orders are expected\"\n",
      " '13,000 people receive #wildfires evacuation orders in California '\n",
      " 'Just got sent this photo from Ruby #Alaska as smoke from #wildfires pours into a school '\n",
      " '#RockyFire Update => California Hwy. 20 closed in both directions due to Lake County fire - #CAfire #wildfires'\n",
      " '#flood #disaster Heavy rain causes flash flooding of streets in Manitou, Colorado Springs areas'\n",
      " \"I'm on top of the hill and I can see a fire in the woods...\"\n",
      " \"There's an emergency evacuation happening now in the building across the street\"\n",
      " \"I'm afraid that the tornado is coming to our area...\"]\n"
     ]
    }
   ],
   "source": [
    "text_train = x_train.text.values\n",
    "text_test = x_test.text.values\n",
    "print(text_train[:10])"
   ]
  },
  {
   "cell_type": "code",
   "execution_count": 30,
   "id": "de74ac49",
   "metadata": {},
   "outputs": [],
   "source": [
    "tokenizer = Tokenizer()\n",
    "\n",
    "tokenizer.fit_on_texts(text_train)\n",
    "\n",
    "X_train = tokenizer.texts_to_sequences(text_train)\n",
    "X_test = tokenizer.texts_to_sequences(text_test)"
   ]
  },
  {
   "cell_type": "code",
   "execution_count": 31,
   "id": "61a1707d",
   "metadata": {},
   "outputs": [
    {
     "name": "stdout",
     "output_type": "stream",
     "text": [
      "[   0    0    0    0    0    0    0    0    0    0    0    0    0    0\n",
      "    0    0    0    0    0    0  119 4633   24    4  868    8   21  263\n",
      "  138 1619 4634   89   40]\n"
     ]
    }
   ],
   "source": [
    "X_train = keras.preprocessing.sequence.pad_sequences(X_train)\n",
    "X_test = keras.preprocessing.sequence.pad_sequences(X_test)\n",
    "\n",
    "print(X_train[0])"
   ]
  },
  {
   "cell_type": "code",
   "execution_count": 32,
   "id": "3c8efade",
   "metadata": {},
   "outputs": [
    {
     "name": "stdout",
     "output_type": "stream",
     "text": [
      "Vocabulary Size: 22700\n"
     ]
    }
   ],
   "source": [
    "vocab_size = len(tokenizer.word_index)\n",
    "print('Vocabulary Size:', vocab_size)"
   ]
  },
  {
   "cell_type": "code",
   "execution_count": 37,
   "id": "1efb89dd",
   "metadata": {},
   "outputs": [],
   "source": [
    "x_train, x_val, y_train, y_val = train_test_split(X_train, y_train, test_size=0.2, random_state=42)"
   ]
  },
  {
   "cell_type": "code",
   "execution_count": 38,
   "id": "f16a747c",
   "metadata": {},
   "outputs": [
    {
     "name": "stdout",
     "output_type": "stream",
     "text": [
      "Model: \"sequential_2\"\n",
      "_________________________________________________________________\n",
      " Layer (type)                Output Shape              Param #   \n",
      "=================================================================\n",
      " embedding_2 (Embedding)     (None, None, 128)         2905728   \n",
      "                                                                 \n",
      " lstm_2 (LSTM)               (None, 256)               394240    \n",
      "                                                                 \n",
      " dense_6 (Dense)             (None, 128)               32896     \n",
      "                                                                 \n",
      " dense_7 (Dense)             (None, 64)                8256      \n",
      "                                                                 \n",
      " dense_8 (Dense)             (None, 1)                 65        \n",
      "                                                                 \n",
      "=================================================================\n",
      "Total params: 3,341,185\n",
      "Trainable params: 3,341,185\n",
      "Non-trainable params: 0\n",
      "_________________________________________________________________\n"
     ]
    }
   ],
   "source": [
    "model = Sequential()\n",
    "model.add(Embedding(input_dim = vocab_size+1, output_dim = 128))\n",
    "model.add(LSTM(256, activation = 'relu'))\n",
    "model.add(Dense(128, activation = 'relu'))\n",
    "model.add(Dense(64, activation = 'relu'))\n",
    "model.add(Dense(1, activation='relu'))\n",
    "\n",
    "model.summary()"
   ]
  },
  {
   "cell_type": "code",
   "execution_count": 39,
   "id": "7c1c8cca",
   "metadata": {
    "scrolled": true
   },
   "outputs": [
    {
     "name": "stdout",
     "output_type": "stream",
     "text": [
      "Epoch 1/25\n",
      "6/6 [==============================] - 10s 1s/step - loss: 1.8820 - accuracy: 0.5695 - val_loss: 0.9414 - val_accuracy: 0.5739\n",
      "Epoch 2/25\n",
      "6/6 [==============================] - 9s 1s/step - loss: 0.8111 - accuracy: 0.5695 - val_loss: 0.6741 - val_accuracy: 0.5739\n",
      "Epoch 3/25\n",
      "6/6 [==============================] - 9s 1s/step - loss: 0.6658 - accuracy: 0.5401 - val_loss: 0.6880 - val_accuracy: 0.4846\n",
      "Epoch 4/25\n",
      "6/6 [==============================] - 8s 1s/step - loss: 0.6110 - accuracy: 0.7381 - val_loss: 0.6271 - val_accuracy: 0.6815\n",
      "Epoch 5/25\n",
      "6/6 [==============================] - 9s 1s/step - loss: 0.5682 - accuracy: 0.7816 - val_loss: 0.6078 - val_accuracy: 0.7124\n",
      "Epoch 6/25\n",
      "6/6 [==============================] - 9s 2s/step - loss: 0.5152 - accuracy: 0.8550 - val_loss: 0.5772 - val_accuracy: 0.7196\n",
      "Epoch 7/25\n",
      "6/6 [==============================] - 10s 2s/step - loss: 0.4424 - accuracy: 0.8479 - val_loss: 0.5582 - val_accuracy: 0.7019\n",
      "Epoch 8/25\n",
      "6/6 [==============================] - 10s 2s/step - loss: 0.3816 - accuracy: 0.8934 - val_loss: 0.5234 - val_accuracy: 0.7479\n",
      "Epoch 9/25\n",
      "6/6 [==============================] - 9s 2s/step - loss: 0.3291 - accuracy: 0.9181 - val_loss: 0.5777 - val_accuracy: 0.7341\n",
      "Epoch 10/25\n",
      "6/6 [==============================] - 9s 2s/step - loss: 0.2829 - accuracy: 0.9291 - val_loss: 0.6514 - val_accuracy: 0.7400\n",
      "Epoch 11/25\n",
      "6/6 [==============================] - 10s 2s/step - loss: 0.2413 - accuracy: 0.9438 - val_loss: 0.6222 - val_accuracy: 0.7630\n",
      "Epoch 12/25\n",
      "6/6 [==============================] - 9s 1s/step - loss: 0.2037 - accuracy: 0.9534 - val_loss: 0.6392 - val_accuracy: 0.7741\n",
      "Epoch 13/25\n",
      "6/6 [==============================] - 9s 2s/step - loss: 0.1687 - accuracy: 0.9588 - val_loss: 0.7425 - val_accuracy: 0.7754\n",
      "Epoch 14/25\n",
      "6/6 [==============================] - 9s 2s/step - loss: 0.1368 - accuracy: 0.9652 - val_loss: 0.7924 - val_accuracy: 0.7774\n",
      "Epoch 15/25\n",
      "6/6 [==============================] - 9s 2s/step - loss: 0.1065 - accuracy: 0.9696 - val_loss: 0.8346 - val_accuracy: 0.7859\n",
      "Epoch 16/25\n",
      "6/6 [==============================] - 9s 2s/step - loss: 0.0769 - accuracy: 0.9741 - val_loss: 0.9437 - val_accuracy: 0.7807\n",
      "Epoch 17/25\n",
      "6/6 [==============================] - 9s 2s/step - loss: 0.0503 - accuracy: 0.9785 - val_loss: 1.2799 - val_accuracy: 0.7708\n",
      "Epoch 18/25\n",
      "6/6 [==============================] - 9s 2s/step - loss: 0.0337 - accuracy: 0.9856 - val_loss: 1.6386 - val_accuracy: 0.7656\n",
      "Epoch 19/25\n",
      "6/6 [==============================] - 9s 2s/step - loss: 0.0248 - accuracy: 0.9918 - val_loss: 1.7395 - val_accuracy: 0.7584\n",
      "Epoch 20/25\n",
      "6/6 [==============================] - 10s 2s/step - loss: 0.0189 - accuracy: 0.9934 - val_loss: 1.8472 - val_accuracy: 0.7538\n",
      "Epoch 21/25\n",
      "6/6 [==============================] - 9s 2s/step - loss: 0.0153 - accuracy: 0.9943 - val_loss: 1.9468 - val_accuracy: 0.7557\n",
      "Epoch 22/25\n",
      "6/6 [==============================] - 9s 2s/step - loss: 0.0128 - accuracy: 0.9951 - val_loss: 2.0552 - val_accuracy: 0.7557\n",
      "Epoch 23/25\n",
      "6/6 [==============================] - 9s 2s/step - loss: 0.0118 - accuracy: 0.9951 - val_loss: 1.8921 - val_accuracy: 0.7695\n",
      "Epoch 24/25\n",
      "6/6 [==============================] - 9s 2s/step - loss: 0.0169 - accuracy: 0.9941 - val_loss: 1.8780 - val_accuracy: 0.7538\n",
      "Epoch 25/25\n",
      "6/6 [==============================] - 9s 2s/step - loss: 0.0209 - accuracy: 0.9934 - val_loss: 1.7092 - val_accuracy: 0.7669\n"
     ]
    }
   ],
   "source": [
    "early_stopping = keras.callbacks.EarlyStopping(monitor='val_accuracy', patience=10)\n",
    "model.compile(optimizer='adam', loss=\"binary_crossentropy\", metrics=[\"accuracy\"])\n",
    "history = model.fit(x_train, y_train, validation_data=(x_val, y_val), shuffle=True, epochs=25, batch_size=1024, callbacks=[early_stopping])"
   ]
  },
  {
   "cell_type": "markdown",
   "id": "780be28b",
   "metadata": {},
   "source": [
    "12. Evaluate the model and make predictions"
   ]
  },
  {
   "cell_type": "code",
   "execution_count": 40,
   "id": "e034b483",
   "metadata": {},
   "outputs": [
    {
     "name": "stdout",
     "output_type": "stream",
     "text": [
      "48/48 [==============================] - 1s 24ms/step - loss: 1.7092 - accuracy: 0.7669\n"
     ]
    }
   ],
   "source": [
    "train_score = model.evaluate(x_val, y_val)"
   ]
  },
  {
   "cell_type": "code",
   "execution_count": 41,
   "id": "61e776ce",
   "metadata": {},
   "outputs": [
    {
     "data": {
      "text/plain": [
       "array([0.33791226, 0.2317696 , 1.1570895 , ..., 0.7726482 , 0.6266731 ,\n",
       "       1.0803487 ], dtype=float32)"
      ]
     },
     "execution_count": 41,
     "metadata": {},
     "output_type": "execute_result"
    }
   ],
   "source": [
    "preds = model.predict(X_test).flatten()\n",
    "preds"
   ]
  },
  {
   "cell_type": "markdown",
   "id": "815fdf18",
   "metadata": {},
   "source": [
    "13. Evaluate the results with charts of acc and loss"
   ]
  },
  {
   "cell_type": "code",
   "execution_count": 42,
   "id": "6168d5ba",
   "metadata": {},
   "outputs": [
    {
     "data": {
      "image/png": "[encoded data removed]",
      "text/plain": [
       "<Figure size 432x288 with 1 Axes>"
      ]
     },
     "metadata": {
      "needs_background": "light"
     },
     "output_type": "display_data"
    },
    {
     "data": {
      "image/png": "[encoded data removed]",
      "text/plain": [
       "<Figure size 432x288 with 1 Axes>"
      ]
     },
     "metadata": {
      "needs_background": "light"
     },
     "output_type": "display_data"
    }
   ],
   "source": [
    "def plot_history(loss_hist, metric_hist):\n",
    "    num_epochs= len(loss_hist[\"train\"])\n",
    "\n",
    "    plt.title(\"Train-Val Loss\")\n",
    "    plt.plot(range(1,num_epochs+1), loss_hist[\"train\"], label=\"train\")\n",
    "    plt.plot(range(1,num_epochs+1), loss_hist[\"val\"], label=\"val\")\n",
    "    plt.ylabel(\"Loss\")\n",
    "    plt.xlabel(\"Training Epochs\")\n",
    "    plt.legend()\n",
    "    plt.show()\n",
    "\n",
    "    plt.title(\"Train-Val Accuracy\")\n",
    "    plt.plot(range(1,num_epochs+1), metric_hist[\"train\"],label=\"train\")\n",
    "    plt.plot(range(1,num_epochs+1), metric_hist[\"val\"],label=\"val\")\n",
    "    plt.ylabel(\"Accuracy\")\n",
    "    plt.xlabel(\"Training Epochs\")\n",
    "    plt.legend()\n",
    "    plt.show()\n",
    "\n",
    "loss_hist = {\n",
    "    \"train\": history.history['loss'],\n",
    "    \"val\": history.history['val_loss'],\n",
    "}\n",
    "\n",
    "metric_hist = {\n",
    "    \"train\": history.history[\"accuracy\"],\n",
    "    \"val\": history.history[\"val_accuracy\"]\n",
    "}\n",
    "\n",
    "plot_history(loss_hist, metric_hist)"
   ]
  },
  {
   "cell_type": "markdown",
   "id": "f9f34757",
   "metadata": {},
   "source": [
    "14. Save your model"
   ]
  },
  {
   "cell_type": "code",
   "execution_count": 45,
   "id": "5e7c9424",
   "metadata": {},
   "outputs": [
    {
     "name": "stdout",
     "output_type": "stream",
     "text": [
      "INFO:tensorflow:Assets written to: Amit course/final project/GP.ipynb\\assets\n"
     ]
    },
    {
     "name": "stderr",
     "output_type": "stream",
     "text": [
      "WARNING:absl:<keras.layers.recurrent.LSTMCell object at 0x00000251BDB0E160> has the same name 'LSTMCell' as a built-in Keras object. Consider renaming <class 'keras.layers.recurrent.LSTMCell'> to avoid naming conflicts when loading with `tf.keras.models.load_model`. If renaming is not possible, pass the object in the `custom_objects` parameter of the load function.\n"
     ]
    }
   ],
   "source": [
    "model.save(\"Amit course/final project/GP.ipynb\")"
   ]
  }
 ],
 "metadata": {
  "kernelspec": {
   "display_name": "Python 3 (ipykernel)",
   "language": "python",
   "name": "python3"
  },
  "language_info": {
   "codemirror_mode": {
    "name": "ipython",
    "version": 3
   },
   "file_extension": ".py",
   "mimetype": "text/x-python",
   "name": "python",
   "nbconvert_exporter": "python",
   "pygments_lexer": "ipython3",
   "version": "3.9.7"
  }
 },
 "nbformat": 4,
 "nbformat_minor": 5
}
